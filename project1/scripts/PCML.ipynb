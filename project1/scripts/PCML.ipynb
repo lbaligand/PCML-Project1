{
 "cells": [
  {
   "cell_type": "code",
   "execution_count": 3,
   "metadata": {
    "collapsed": false
   },
   "outputs": [],
   "source": [
    "# Useful starting lines\n",
    "%matplotlib inline\n",
    "import numpy as np\n",
    "import matplotlib.pyplot as plt\n",
    "%load_ext autoreload\n",
    "%autoreload 2\n",
    "from helpers import *\n",
    "from proj1_helpers import *\n",
    "from costs import *\n",
    "from implementations import *\n"
   ]
  },
  {
   "cell_type": "markdown",
   "metadata": {},
   "source": [
    "## Load the training data into feature matrix, class labels, and event ids:"
   ]
  },
  {
   "cell_type": "code",
   "execution_count": 4,
   "metadata": {
    "collapsed": false
   },
   "outputs": [],
   "source": [
    "\n",
    "DATA_TRAIN_PATH = '../Data/train.csv' # TODO: add a file Data-Project1 with the train data \n",
    "y, tX, ids = load_csv_data(DATA_TRAIN_PATH)"
   ]
  },
  {
   "cell_type": "markdown",
   "metadata": {},
   "source": [
    "# Preprocess the data"
   ]
  },
  {
   "cell_type": "code",
   "execution_count": 5,
   "metadata": {
    "collapsed": true
   },
   "outputs": [],
   "source": [
    "# Delete the outliers with the median\n",
    "def delete_outliers(tX):\n",
    "    for idx_feature in range(tX.shape[1]):\n",
    "        tX_feature = tX[:,idx_feature]\n",
    "        median = np.median(tX_feature[np.where(tX_feature != -999)])\n",
    "        new = np.where(tX_feature == -999, median, tX_feature)\n",
    "        tX[:, idx_feature] = np.copy(new)\n",
    "    return tX"
   ]
  },
  {
   "cell_type": "code",
   "execution_count": 6,
   "metadata": {
    "collapsed": true
   },
   "outputs": [],
   "source": [
    "tX = delete_outliers(tX)"
   ]
  },
  {
   "cell_type": "code",
   "execution_count": 7,
   "metadata": {
    "collapsed": true
   },
   "outputs": [],
   "source": [
    "# Standardize the data\n",
    "stx, mean_stx, std_x = standardize(tX)"
   ]
  },
  {
   "cell_type": "code",
   "execution_count": 8,
   "metadata": {
    "collapsed": true
   },
   "outputs": [],
   "source": [
    "# y must be 0 or 1 and not -1 or 1\n",
    "def set_y(y):\n",
    "    y = np.where(y == -1, 0, y)\n",
    "    return y\n",
    "y = set_y(y)"
   ]
  },
  {
   "cell_type": "markdown",
   "metadata": {},
   "source": [
    "Get rid of the Features that do not provide any more information than the background"
   ]
  },
  {
   "cell_type": "code",
   "execution_count": 9,
   "metadata": {
    "collapsed": false
   },
   "outputs": [
    {
     "data": {
      "image/png": "[encoded data removed]",
      "text/plain": [
       "<matplotlib.figure.Figure at 0x7f8a34d35278>"
      ]
     },
     "metadata": {},
     "output_type": "display_data"
    }
   ],
   "source": [
    "idx_f = 2\n",
    "signal = stx[np.where(y == 1), idx_f + 1]\n",
    "background = stx[np.where(y == 0), idx_f + 1]\n",
    "\n",
    "plot = plt.figure()\n",
    "plt.boxplot([signal, background], 0, '')\n",
    "plt.xticks([1, 2], ['Signal', 'Background'])\n",
    "plot.suptitle('Signal and Background distribution of Feature {f}'.format(f = idx_f + 1))\n",
    "\n",
    "textvar = plot.text(0, 0, 'If the plot is similar, it means the signal does not provide more information than the background.')"
   ]
  },
  {
   "cell_type": "markdown",
   "metadata": {},
   "source": [
    "# Remove Features"
   ]
  },
  {
   "cell_type": "code",
   "execution_count": 10,
   "metadata": {
    "collapsed": true
   },
   "outputs": [],
   "source": [
    "def calculate_correlation(stx):\n",
    "    corr = np.ones((stx.shape[1]-1, stx.shape[1]-1))\n",
    "    for feature1 in range(1, stx.shape[1]):\n",
    "        for feature2 in range(1, stx.shape[1]):\n",
    "            corr[feature1-1, feature2-1] = np.corrcoef(stx[:, feature1], stx[:, feature2])[0, 1]\n",
    "            if (corr[feature1-1, feature2-1] >= 0.9 and feature1-1 != feature2-1):\n",
    "                \n",
    "                print(\"Features {f1} and {f2} are highly correlated: {corr}\".format(f1 =feature1-1, f2 = feature2-1, corr = corr[feature1-1, feature2-1]))\n",
    "    return corr"
   ]
  },
  {
   "cell_type": "code",
   "execution_count": 11,
   "metadata": {
    "collapsed": false
   },
   "outputs": [
    {
     "name": "stdout",
     "output_type": "stream",
     "text": [
      "Features 9 and 21 are highly correlated: 0.9044814595684958\n",
      "Features 9 and 29 are highly correlated: 0.9656283889163997\n",
      "Features 21 and 9 are highly correlated: 0.9044814595684957\n",
      "Features 29 and 9 are highly correlated: 0.9656283889163997\n"
     ]
    }
   ],
   "source": [
    "corr = calculate_correlation(stx)"
   ]
  },
  {
   "cell_type": "code",
   "execution_count": 12,
   "metadata": {
    "collapsed": true
   },
   "outputs": [],
   "source": [
    "idx_to_del = np.array([22, 30])"
   ]
  },
  {
   "cell_type": "code",
   "execution_count": 13,
   "metadata": {
    "collapsed": true
   },
   "outputs": [],
   "source": [
    "def calculate_correlation_with_y(stx, y, threshold):\n",
    "    corr = np.ones(stx.shape[1]-1)\n",
    "    for feature in range(1, stx.shape[1]):\n",
    "        corr[feature-1] = np.corrcoef(y, stx[:, feature])[0, 1] \n",
    "        if (abs(corr[feature-1]) <= threshold):\n",
    "            print(\"feature {f} is not correlated with y: {corr}\".format(f = feature-1, corr= corr[feature-1]))\n",
    "    return corr"
   ]
  },
  {
   "cell_type": "code",
   "execution_count": 14,
   "metadata": {
    "collapsed": false
   },
   "outputs": [
    {
     "name": "stdout",
     "output_type": "stream",
     "text": [
      "feature 14 is not correlated with y: -0.0009432510582117535\n",
      "feature 15 is not correlated with y: -0.00440253868638843\n",
      "feature 17 is not correlated with y: 0.001516235377059733\n",
      "feature 18 is not correlated with y: 0.00412544741152486\n",
      "feature 24 is not correlated with y: 7.15909820593841e-05\n",
      "feature 25 is not correlated with y: 0.0009043288374294407\n",
      "feature 27 is not correlated with y: 0.0005721318815439868\n",
      "feature 28 is not correlated with y: -0.003524581655021693\n"
     ]
    }
   ],
   "source": [
    "corr = calculate_correlation_with_y(stx, y, 0.005)"
   ]
  },
  {
   "cell_type": "code",
   "execution_count": 15,
   "metadata": {
    "collapsed": true
   },
   "outputs": [],
   "source": [
    "idx_to_del = np.append(idx_to_del, [ 15, 16, 18, 19, 25, 26, 28, 29])\n",
    "#idx_to_del = np.append(idx_to_del, [ 15, 16, 18, 19, 21, 25, 26, 28, 29])"
   ]
  },
  {
   "cell_type": "code",
   "execution_count": 16,
   "metadata": {
    "collapsed": false
   },
   "outputs": [
    {
     "name": "stdout",
     "output_type": "stream",
     "text": [
      "[30 29 28 26 25 22 19 18 16 15]\n"
     ]
    }
   ],
   "source": [
    "idx_to_del = np.sort(idx_to_del)\n",
    "idx_to_del = idx_to_del[::-1]\n",
    "print(idx_to_del)"
   ]
  },
  {
   "cell_type": "code",
   "execution_count": 17,
   "metadata": {
    "collapsed": true
   },
   "outputs": [],
   "source": [
    "def delete_features(stx):\n",
    "    return np.delete(stx, idx_to_del, 1)"
   ]
  },
  {
   "cell_type": "code",
   "execution_count": 18,
   "metadata": {
    "collapsed": false
   },
   "outputs": [
    {
     "data": {
      "text/plain": [
       "array([ 0.0263822 , -0.35142796, -0.01405527,  0.19252633,  0.20347244,\n",
       "        0.21249463, -0.18361342,  0.01224548, -0.01528743,  0.15323593,\n",
       "       -0.1953979 ,  0.27175188,  0.17514537,  0.23523798, -0.03194759,\n",
       "        0.02246575,  0.00747534,  0.13354912,  0.11545223,  0.02287271])"
      ]
     },
     "execution_count": 18,
     "metadata": {},
     "output_type": "execute_result"
    }
   ],
   "source": [
    "clean_tx = delete_features(np.copy(stx))\n",
    "calculate_correlation_with_y(clean_tx, y, 0.005)"
   ]
  },
  {
   "cell_type": "markdown",
   "metadata": {},
   "source": [
    "## Build a polynomial basis"
   ]
  },
  {
   "cell_type": "code",
   "execution_count": 19,
   "metadata": {
    "collapsed": true
   },
   "outputs": [],
   "source": [
    "def build_poly(x, degree):\n",
    "    \"\"\"polynomial basis functions for input data x, for j=0 up to j=degree.\"\"\"\n",
    "    dim = degree+1\n",
    "    N = x.shape[0]\n",
    "    phi = np.ones((N, x.shape[1]))\n",
    "    for j in range(1, dim):\n",
    "        phi = np.concatenate((phi, np.power(x,j)), axis =1)\n",
    "    return phi\n"
   ]
  },
  {
   "cell_type": "code",
   "execution_count": 21,
   "metadata": {
    "collapsed": false
   },
   "outputs": [
    {
     "data": {
      "text/plain": [
       "(250000, 63)"
      ]
     },
     "execution_count": 21,
     "metadata": {},
     "output_type": "execute_result"
    }
   ],
   "source": [
    "degree = 2\n",
    "poly_tx = build_poly(clean_tx, degree)\n",
    "poly_tx.shape"
   ]
  },
  {
   "cell_type": "markdown",
   "metadata": {},
   "source": [
    "# Validation"
   ]
  },
  {
   "cell_type": "code",
   "execution_count": 22,
   "metadata": {
    "collapsed": false
   },
   "outputs": [],
   "source": [
    "def divide_training_data(y, x, ratio ):\n",
    "    \"\"\"Divide a dataset into 2 disjoint parts. We will use this on the training data set \n",
    "    so that we can train on one and test on the other to check the accuracy of our prediction\n",
    "    \"\"\"\n",
    "    indices = np.random.choice(np.arange(len(y)), int( len(y)*ratio ), replace=False)\n",
    "    \n",
    "    # training data \n",
    "    x_train = x[indices]\n",
    "    y_train = y[indices]\n",
    "    \n",
    "    # test data \n",
    "    x_test = x[~indices]\n",
    "    y_test = y[~indices]\n",
    "    \n",
    "\n",
    "\n",
    "    return x_train, x_test, y_train, y_test"
   ]
  },
  {
   "cell_type": "code",
   "execution_count": 23,
   "metadata": {
    "collapsed": false
   },
   "outputs": [],
   "source": [
    "def prediction( y, tX, gamma, max_iters, lambda_, initial_w  ):\n",
    "    \"\"\"Train on the train part of the data and test on the test part to validate the model\"\"\"\n",
    "    x_train, x_test, y_train, y_test = divide_training_data(y, tX, 0.7 )\n",
    "    \n",
    "    loss = 0\n",
    "    w = []\n",
    "    loss, w = reg_logistic_regression( y_train, x_train, lambda_, gamma, max_iters )\n",
    "    \n",
    "    y_pred = predict_labels(w, x_test)    \n",
    "    y_pred = set_y(y_pred)\n",
    "    \n",
    "    # accuracy of the prediction\n",
    "    N = y_test.shape\n",
    "    print(N, y_pred.shape)\n",
    "    pred = np.sum(y_pred == y_test)/N[0]\n",
    "        \n",
    "    return pred"
   ]
  },
  {
   "cell_type": "markdown",
   "metadata": {},
   "source": [
    "## Linear regression using Gradient Descent "
   ]
  },
  {
   "cell_type": "code",
   "execution_count": 25,
   "metadata": {
    "collapsed": false
   },
   "outputs": [
    {
     "data": {
      "text/plain": [
       "(array([  3.26246845e-02,   1.12555408e-03,  -1.49630998e-02,\n",
       "         -5.27639545e-04,   7.02221903e-03,   8.08978174e-03,\n",
       "          8.11769979e-03,  -7.14295078e-03,   1.59108512e-03,\n",
       "         -1.30569868e-03,   5.17468251e-03,  -8.33403032e-03,\n",
       "          1.10322802e-02,   7.16516296e-03,   9.56867131e-03,\n",
       "         -5.00683515e-05,  -2.02282621e-04,  -1.53553951e-03,\n",
       "          4.60885699e-05,   1.85119866e-04,   1.08180533e-04,\n",
       "          3.07448491e-04,   4.43231567e-03,   4.54581600e-03,\n",
       "          3.71286308e-03,   2.90482476e-06,   3.16264988e-05,\n",
       "          4.23474030e-05,   3.18010251e-05,  -1.40331564e-04,\n",
       "          4.26636111e-03]), 0.15160026197005938)"
      ]
     },
     "execution_count": 25,
     "metadata": {},
     "output_type": "execute_result"
    }
   ],
   "source": [
    "initial_w = np.zeros(stx.shape[1])\n",
    "max_iters = 100\n",
    "gamma = 0.001\n",
    "\n",
    "least_squares_GD(y, stx, initial_w, max_iters, gamma)"
   ]
  },
  {
   "cell_type": "markdown",
   "metadata": {},
   "source": [
    "## Linear regression using stochastic gradient descent"
   ]
  },
  {
   "cell_type": "code",
   "execution_count": 28,
   "metadata": {
    "collapsed": false
   },
   "outputs": [
    {
     "data": {
      "text/plain": [
       "(array([  3.42652972e-01,  -6.82429969e-03,  -1.20053703e-01,\n",
       "         -7.60258575e-02,   2.18634038e-02,   1.75429763e-02,\n",
       "          4.13991244e-02,   5.07979004e-04,   1.05803005e-01,\n",
       "         -1.41598873e-02,   1.71970141e-02,  -5.77982349e-02,\n",
       "          6.24719504e-02,   3.63223883e-02,   8.38913851e-02,\n",
       "          8.05147936e-06,  -6.45499390e-04,   8.15212555e-02,\n",
       "         -3.26788905e-04,   1.22435912e-03,   3.35698968e-02,\n",
       "          6.78002148e-05,  -1.80964935e-02,   4.56517065e-03,\n",
       "         -2.20299761e-02,   9.16153743e-06,   6.01597954e-04,\n",
       "         -1.35431395e-02,   1.08769143e-03,  -1.31712823e-03,\n",
       "         -1.72333432e-02]), 0.085540862775766183)"
      ]
     },
     "execution_count": 28,
     "metadata": {},
     "output_type": "execute_result"
    }
   ],
   "source": [
    "gamma = 0.1\n",
    "least_squares_SGD(y, stx, initial_w, max_iters, gamma)"
   ]
  },
  {
   "cell_type": "markdown",
   "metadata": {},
   "source": [
    "## Least squares regression using normal equations"
   ]
  },
  {
   "cell_type": "code",
   "execution_count": 29,
   "metadata": {
    "collapsed": false
   },
   "outputs": [
    {
     "data": {
      "text/plain": [
       "(array([  3.42668000e-01,   6.11361314e-03,  -1.26533292e-01,\n",
       "         -1.31728099e-01,   6.46217226e-03,   9.64026088e-03,\n",
       "          5.20573141e-02,   3.57195511e-03,   1.40111528e-01,\n",
       "         -1.38806755e-02,  -1.60323202e+02,  -9.38377506e-02,\n",
       "          6.00765800e-02,   3.72963099e-02,   3.11465307e+01,\n",
       "         -4.00142227e-04,  -4.05770496e-04,   3.07170376e+01,\n",
       "         -3.26073105e-04,   1.27894398e-03,   5.01947429e-02,\n",
       "          4.71663263e-04,  -2.39219337e-02,   2.73366768e-02,\n",
       "         -1.86624775e-02,   2.92313230e-04,   1.24560590e-04,\n",
       "         -9.10599047e-03,   7.58088080e-04,  -8.07604911e-04,\n",
       "          1.35788484e+02]), 0.084989533074598111)"
      ]
     },
     "execution_count": 29,
     "metadata": {},
     "output_type": "execute_result"
    }
   ],
   "source": [
    "least_squares(y, stx)"
   ]
  },
  {
   "cell_type": "markdown",
   "metadata": {},
   "source": [
    "## Ridge regression using normal equations"
   ]
  },
  {
   "cell_type": "code",
   "execution_count": 33,
   "metadata": {
    "collapsed": false,
    "scrolled": true
   },
   "outputs": [
    {
     "data": {
      "text/plain": [
       "(array([  3.42667863e-01,   6.11297319e-03,  -1.26538540e-01,\n",
       "         -1.31725593e-01,   6.46088980e-03,   9.63885056e-03,\n",
       "          5.20609183e-02,   3.57572226e-03,   1.40110603e-01,\n",
       "         -1.38823980e-02,   9.52716103e-03,  -9.38353284e-02,\n",
       "          6.00747147e-02,   3.72989396e-02,   9.03488696e-02,\n",
       "         -4.00598225e-04,  -4.05611588e-04,   1.41908324e-01,\n",
       "         -3.25120523e-04,   1.27773001e-03,   5.01978869e-02,\n",
       "          4.72869042e-04,  -2.39169434e-02,   2.73366514e-02,\n",
       "         -1.86663923e-02,   2.92969358e-04,   1.24633015e-04,\n",
       "         -9.10739964e-03,   7.57952288e-04,  -8.05691791e-04,\n",
       "         -3.07741702e-02]), 0.084989820561928331)"
      ]
     },
     "execution_count": 33,
     "metadata": {},
     "output_type": "execute_result"
    }
   ],
   "source": [
    "lambda_ = 0.1\n",
    "ridge_regression(y, stx, lambda_)"
   ]
  },
  {
   "cell_type": "markdown",
   "metadata": {},
   "source": [
    "## Logistic regression using gradient or SGD"
   ]
  },
  {
   "cell_type": "code",
   "execution_count": 35,
   "metadata": {
    "collapsed": false
   },
   "outputs": [
    {
     "name": "stdout",
     "output_type": "stream",
     "text": [
      "Current iteration=0, the loss=[ 173286.79513999]\n"
     ]
    },
    {
     "data": {
      "text/plain": [
       "(array([ -7.99164213e-01,  -3.82177695e-02,  -6.47271596e-01,\n",
       "         -2.34822096e-01,   1.93134902e-01,   8.80119232e-02,\n",
       "          2.13535323e-01,  -2.44198634e-02,   4.51242010e-01,\n",
       "         -9.75654639e-02,   6.61573396e-02,  -2.70515076e-01,\n",
       "          2.99966260e-01,   1.78630879e-01,   3.91223147e-01,\n",
       "         -3.85215356e-03,  -5.28744162e-03,   2.44837602e-01,\n",
       "         -1.89458727e-03,   6.87560818e-03,   4.90217893e-02,\n",
       "          3.12141991e-03,  -4.31313227e-02,  -1.37513690e-02,\n",
       "         -4.04791233e-02,   1.36205377e-04,   1.97982467e-03,\n",
       "         -8.88506504e-02,   4.35008009e-03,  -2.93226649e-03,\n",
       "         -6.64753884e-02]), array([ 127999.19292002]))"
      ]
     },
     "execution_count": 35,
     "metadata": {},
     "output_type": "execute_result"
    }
   ],
   "source": [
    "max_iters = 100\n",
    "gamma = 0.000001\n",
    "logistic_regression(y, stx, initial_w, max_iters, gamma)"
   ]
  },
  {
   "cell_type": "markdown",
   "metadata": {},
   "source": [
    "## Regularized  logistic  regression  using  gradient  descent or SGD"
   ]
  },
  {
   "cell_type": "code",
   "execution_count": 38,
   "metadata": {
    "collapsed": false
   },
   "outputs": [
    {
     "name": "stdout",
     "output_type": "stream",
     "text": [
      "Current iteration=0, the loss=[ 173286.79513999]\n",
      "Current iteration=100, the loss=[ 150060.96001291]\n",
      "Current iteration=200, the loss=[ 142037.96232546]\n",
      "Current iteration=300, the loss=[ 137899.78894857]\n"
     ]
    },
    {
     "ename": "KeyboardInterrupt",
     "evalue": "",
     "output_type": "error",
     "traceback": [
      "\u001b[0;31m---------------------------------------------------------------------------\u001b[0m",
      "\u001b[0;31mKeyboardInterrupt\u001b[0m                         Traceback (most recent call last)",
      "\u001b[0;32m<ipython-input-38-8fff336c4ba7>\u001b[0m in \u001b[0;36m<module>\u001b[0;34m()\u001b[0m\n\u001b[1;32m      2\u001b[0m \u001b[0mmax_iters\u001b[0m \u001b[0;34m=\u001b[0m \u001b[0;36m1000\u001b[0m\u001b[0;34m\u001b[0m\u001b[0m\n\u001b[1;32m      3\u001b[0m \u001b[0mlambda_\u001b[0m \u001b[0;34m=\u001b[0m \u001b[0;36m0.07\u001b[0m\u001b[0;34m\u001b[0m\u001b[0m\n\u001b[0;32m----> 4\u001b[0;31m \u001b[0mreg_logistic_regression\u001b[0m\u001b[0;34m(\u001b[0m\u001b[0my\u001b[0m\u001b[0;34m,\u001b[0m \u001b[0mstx\u001b[0m\u001b[0;34m,\u001b[0m \u001b[0mlambda_\u001b[0m\u001b[0;34m,\u001b[0m \u001b[0minitial_w\u001b[0m\u001b[0;34m,\u001b[0m \u001b[0mmax_iters\u001b[0m\u001b[0;34m,\u001b[0m \u001b[0mgamma\u001b[0m\u001b[0;34m)\u001b[0m\u001b[0;34m\u001b[0m\u001b[0m\n\u001b[0m",
      "\u001b[0;32m/home/kirtan/Academics/EPFL/sem1/ML/PCML-Project1/project1/scripts/implementations.py\u001b[0m in \u001b[0;36mreg_logistic_regression\u001b[0;34m(y, tx, lambda_, initial_w, max_iters, gamma)\u001b[0m\n\u001b[1;32m    155\u001b[0m     \u001b[0;32mfor\u001b[0m \u001b[0miter\u001b[0m \u001b[0;32min\u001b[0m \u001b[0mrange\u001b[0m\u001b[0;34m(\u001b[0m\u001b[0mmax_iters\u001b[0m\u001b[0;34m)\u001b[0m\u001b[0;34m:\u001b[0m\u001b[0;34m\u001b[0m\u001b[0m\n\u001b[1;32m    156\u001b[0m         \u001b[0;31m# get loss and update w.\u001b[0m\u001b[0;34m\u001b[0m\u001b[0;34m\u001b[0m\u001b[0m\n\u001b[0;32m--> 157\u001b[0;31m         \u001b[0mw\u001b[0m\u001b[0;34m,\u001b[0m \u001b[0mloss\u001b[0m \u001b[0;34m=\u001b[0m \u001b[0mlearning_by_gradient_descent\u001b[0m\u001b[0;34m(\u001b[0m\u001b[0my\u001b[0m\u001b[0;34m,\u001b[0m \u001b[0mtx\u001b[0m\u001b[0;34m,\u001b[0m \u001b[0mw\u001b[0m\u001b[0;34m,\u001b[0m \u001b[0mgamma\u001b[0m\u001b[0;34m,\u001b[0m \u001b[0mlambda_\u001b[0m\u001b[0;34m)\u001b[0m\u001b[0;34m\u001b[0m\u001b[0m\n\u001b[0m\u001b[1;32m    158\u001b[0m         \u001b[0;31m# log info\u001b[0m\u001b[0;34m\u001b[0m\u001b[0;34m\u001b[0m\u001b[0m\n\u001b[1;32m    159\u001b[0m         \u001b[0;32mif\u001b[0m \u001b[0miter\u001b[0m \u001b[0;34m%\u001b[0m \u001b[0;36m100\u001b[0m \u001b[0;34m==\u001b[0m \u001b[0;36m0\u001b[0m\u001b[0;34m:\u001b[0m\u001b[0;34m\u001b[0m\u001b[0m\n",
      "\u001b[0;32m/home/kirtan/Academics/EPFL/sem1/ML/PCML-Project1/project1/scripts/implementations.py\u001b[0m in \u001b[0;36mlearning_by_gradient_descent\u001b[0;34m(y, tx, w, gamma, lambda_)\u001b[0m\n\u001b[1;32m    106\u001b[0m     \"\"\"\n\u001b[1;32m    107\u001b[0m     \u001b[0mloss\u001b[0m \u001b[0;34m=\u001b[0m \u001b[0mcalculate_loss\u001b[0m\u001b[0;34m(\u001b[0m\u001b[0my\u001b[0m\u001b[0;34m,\u001b[0m \u001b[0mtx\u001b[0m\u001b[0;34m,\u001b[0m \u001b[0mw\u001b[0m\u001b[0;34m)\u001b[0m \u001b[0;34m+\u001b[0m \u001b[0mlambda_\u001b[0m\u001b[0;34m*\u001b[0m \u001b[0;34m(\u001b[0m\u001b[0mw\u001b[0m\u001b[0;34m.\u001b[0m\u001b[0mT\u001b[0m \u001b[0;34m@\u001b[0m \u001b[0mw\u001b[0m\u001b[0;34m)\u001b[0m\u001b[0;34m\u001b[0m\u001b[0m\n\u001b[0;32m--> 108\u001b[0;31m     \u001b[0mgradient\u001b[0m \u001b[0;34m=\u001b[0m \u001b[0mcalculate_gradient\u001b[0m\u001b[0;34m(\u001b[0m\u001b[0my\u001b[0m\u001b[0;34m,\u001b[0m \u001b[0mtx\u001b[0m\u001b[0;34m,\u001b[0m \u001b[0mw\u001b[0m\u001b[0;34m)\u001b[0m\u001b[0;34m\u001b[0m\u001b[0m\n\u001b[0m\u001b[1;32m    109\u001b[0m \u001b[0;34m\u001b[0m\u001b[0m\n\u001b[1;32m    110\u001b[0m     \u001b[0mw\u001b[0m\u001b[0;34m.\u001b[0m\u001b[0mshape\u001b[0m \u001b[0;34m=\u001b[0m \u001b[0;34m(\u001b[0m\u001b[0mw\u001b[0m\u001b[0;34m.\u001b[0m\u001b[0mshape\u001b[0m\u001b[0;34m[\u001b[0m\u001b[0;36m0\u001b[0m\u001b[0;34m]\u001b[0m\u001b[0;34m,\u001b[0m\u001b[0;34m)\u001b[0m\u001b[0;34m\u001b[0m\u001b[0m\n",
      "\u001b[0;32m/home/kirtan/Academics/EPFL/sem1/ML/PCML-Project1/project1/scripts/implementations.py\u001b[0m in \u001b[0;36mcalculate_gradient\u001b[0;34m(y, tx, w)\u001b[0m\n\u001b[1;32m     98\u001b[0m     \u001b[0msig\u001b[0m \u001b[0;34m=\u001b[0m \u001b[0msigmoid\u001b[0m\u001b[0;34m(\u001b[0m\u001b[0mtx\u001b[0m \u001b[0;34m@\u001b[0m \u001b[0mw\u001b[0m\u001b[0;34m)\u001b[0m\u001b[0;34m\u001b[0m\u001b[0m\n\u001b[1;32m     99\u001b[0m     \u001b[0msig\u001b[0m \u001b[0;34m=\u001b[0m \u001b[0msig\u001b[0m\u001b[0;34m.\u001b[0m\u001b[0mreshape\u001b[0m\u001b[0;34m(\u001b[0m\u001b[0msig\u001b[0m\u001b[0;34m.\u001b[0m\u001b[0mshape\u001b[0m\u001b[0;34m[\u001b[0m\u001b[0;36m0\u001b[0m\u001b[0;34m]\u001b[0m\u001b[0;34m,\u001b[0m\u001b[0;34m)\u001b[0m\u001b[0;34m\u001b[0m\u001b[0m\n\u001b[0;32m--> 100\u001b[0;31m     \u001b[0;32mreturn\u001b[0m \u001b[0mtx\u001b[0m\u001b[0;34m.\u001b[0m\u001b[0mT\u001b[0m \u001b[0;34m@\u001b[0m \u001b[0;34m(\u001b[0m\u001b[0msig\u001b[0m \u001b[0;34m-\u001b[0m \u001b[0my\u001b[0m\u001b[0;34m)\u001b[0m\u001b[0;34m\u001b[0m\u001b[0m\n\u001b[0m\u001b[1;32m    101\u001b[0m \u001b[0;34m\u001b[0m\u001b[0m\n\u001b[1;32m    102\u001b[0m \u001b[0;32mdef\u001b[0m \u001b[0mlearning_by_gradient_descent\u001b[0m\u001b[0;34m(\u001b[0m\u001b[0my\u001b[0m\u001b[0;34m,\u001b[0m \u001b[0mtx\u001b[0m\u001b[0;34m,\u001b[0m \u001b[0mw\u001b[0m\u001b[0;34m,\u001b[0m \u001b[0mgamma\u001b[0m\u001b[0;34m,\u001b[0m \u001b[0mlambda_\u001b[0m\u001b[0;34m)\u001b[0m\u001b[0;34m:\u001b[0m\u001b[0;34m\u001b[0m\u001b[0m\n",
      "\u001b[0;31mKeyboardInterrupt\u001b[0m: "
     ]
    }
   ],
   "source": [
    "gamma = 5e-8\n",
    "max_iters = 1000\n",
    "lambda_ = 0.07\n",
    "reg_logistic_regression(y, stx, lambda_, initial_w, max_iters, gamma)"
   ]
  },
  {
   "cell_type": "markdown",
   "metadata": {},
   "source": [
    "## Generate predictions and save ouput in csv format for submission:"
   ]
  },
  {
   "cell_type": "code",
   "execution_count": 151,
   "metadata": {
    "collapsed": false
   },
   "outputs": [],
   "source": [
    "DATA_TEST_PATH = '../Data/test.csv' # TODO: download train data and supply path here \n",
    "_, tX_test, ids_test = load_csv_data(DATA_TEST_PATH)"
   ]
  },
  {
   "cell_type": "code",
   "execution_count": 152,
   "metadata": {
    "collapsed": true
   },
   "outputs": [],
   "source": [
    "tX_test = delete_outliers(tX_test)\n"
   ]
  },
  {
   "cell_type": "code",
   "execution_count": 153,
   "metadata": {
    "collapsed": true
   },
   "outputs": [],
   "source": [
    "stx_test, mean_stx_test, std_x_test = standardize(tX_test)"
   ]
  },
  {
   "cell_type": "code",
   "execution_count": 154,
   "metadata": {
    "collapsed": true
   },
   "outputs": [],
   "source": [
    "clean_test = delete_features(stx_test)"
   ]
  },
  {
   "cell_type": "code",
   "execution_count": 155,
   "metadata": {
    "collapsed": false
   },
   "outputs": [
    {
     "name": "stdout",
     "output_type": "stream",
     "text": [
      "(568238, 84)\n"
     ]
    }
   ],
   "source": [
    "poly_test = build_poly(clean_test, degree)\n",
    "print(poly_test.shape)"
   ]
  },
  {
   "cell_type": "code",
   "execution_count": 157,
   "metadata": {
    "collapsed": false
   },
   "outputs": [],
   "source": [
    "OUTPUT_PATH = '../Data/Data_submission.csv' # TODO: fill in desired name of output file for submission\n",
    "y_pred = predict_labels(w, poly_test)\n",
    "create_csv_submission(ids_test, y_pred, OUTPUT_PATH)"
   ]
  },
  {
   "cell_type": "code",
   "execution_count": null,
   "metadata": {
    "collapsed": true
   },
   "outputs": [],
   "source": []
  }
 ],
 "metadata": {
  "anaconda-cloud": {},
  "kernelspec": {
   "display_name": "Python [conda root]",
   "language": "python",
   "name": "conda-root-py"
  },
  "language_info": {
   "codemirror_mode": {
    "name": "ipython",
    "version": 3
   },
   "file_extension": ".py",
   "mimetype": "text/x-python",
   "name": "python",
   "nbconvert_exporter": "python",
   "pygments_lexer": "ipython3",
   "version": "3.5.2"
  }
 },
 "nbformat": 4,
 "nbformat_minor": 0
}
